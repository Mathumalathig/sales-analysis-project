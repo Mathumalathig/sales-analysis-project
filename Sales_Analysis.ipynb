{
 "cells": [
  {
   "cell_type": "code",
   "execution_count": 2,
   "id": "f84fb829-3609-40fb-be51-9f4577ba7515",
   "metadata": {},
   "outputs": [],
   "source": [
    "import numpy as np\n",
    "import pandas as pd "
   ]
  },
  {
   "cell_type": "code",
   "execution_count": 3,
   "id": "7e68404a-0316-4429-9da8-a4eca2f2cb19",
   "metadata": {},
   "outputs": [
    {
     "data": {
      "text/html": [
       "<div>\n",
       "<style scoped>\n",
       "    .dataframe tbody tr th:only-of-type {\n",
       "        vertical-align: middle;\n",
       "    }\n",
       "\n",
       "    .dataframe tbody tr th {\n",
       "        vertical-align: top;\n",
       "    }\n",
       "\n",
       "    .dataframe thead th {\n",
       "        text-align: right;\n",
       "    }\n",
       "</style>\n",
       "<table border=\"1\" class=\"dataframe\">\n",
       "  <thead>\n",
       "    <tr style=\"text-align: right;\">\n",
       "      <th></th>\n",
       "      <th>Date</th>\n",
       "      <th>Time</th>\n",
       "      <th>State</th>\n",
       "      <th>Group</th>\n",
       "      <th>Unit</th>\n",
       "      <th>Sales</th>\n",
       "    </tr>\n",
       "  </thead>\n",
       "  <tbody>\n",
       "    <tr>\n",
       "      <th>0</th>\n",
       "      <td>1-Oct-2020</td>\n",
       "      <td>Morning</td>\n",
       "      <td>WA</td>\n",
       "      <td>Kids</td>\n",
       "      <td>8</td>\n",
       "      <td>20000</td>\n",
       "    </tr>\n",
       "    <tr>\n",
       "      <th>1</th>\n",
       "      <td>1-Oct-2020</td>\n",
       "      <td>Morning</td>\n",
       "      <td>WA</td>\n",
       "      <td>Men</td>\n",
       "      <td>8</td>\n",
       "      <td>20000</td>\n",
       "    </tr>\n",
       "    <tr>\n",
       "      <th>2</th>\n",
       "      <td>1-Oct-2020</td>\n",
       "      <td>Morning</td>\n",
       "      <td>WA</td>\n",
       "      <td>Women</td>\n",
       "      <td>4</td>\n",
       "      <td>10000</td>\n",
       "    </tr>\n",
       "    <tr>\n",
       "      <th>3</th>\n",
       "      <td>1-Oct-2020</td>\n",
       "      <td>Morning</td>\n",
       "      <td>WA</td>\n",
       "      <td>Seniors</td>\n",
       "      <td>15</td>\n",
       "      <td>37500</td>\n",
       "    </tr>\n",
       "    <tr>\n",
       "      <th>4</th>\n",
       "      <td>1-Oct-2020</td>\n",
       "      <td>Afternoon</td>\n",
       "      <td>WA</td>\n",
       "      <td>Kids</td>\n",
       "      <td>3</td>\n",
       "      <td>7500</td>\n",
       "    </tr>\n",
       "    <tr>\n",
       "      <th>...</th>\n",
       "      <td>...</td>\n",
       "      <td>...</td>\n",
       "      <td>...</td>\n",
       "      <td>...</td>\n",
       "      <td>...</td>\n",
       "      <td>...</td>\n",
       "    </tr>\n",
       "    <tr>\n",
       "      <th>7555</th>\n",
       "      <td>30-Dec-2020</td>\n",
       "      <td>Afternoon</td>\n",
       "      <td>TAS</td>\n",
       "      <td>Seniors</td>\n",
       "      <td>14</td>\n",
       "      <td>35000</td>\n",
       "    </tr>\n",
       "    <tr>\n",
       "      <th>7556</th>\n",
       "      <td>30-Dec-2020</td>\n",
       "      <td>Evening</td>\n",
       "      <td>TAS</td>\n",
       "      <td>Kids</td>\n",
       "      <td>15</td>\n",
       "      <td>37500</td>\n",
       "    </tr>\n",
       "    <tr>\n",
       "      <th>7557</th>\n",
       "      <td>30-Dec-2020</td>\n",
       "      <td>Evening</td>\n",
       "      <td>TAS</td>\n",
       "      <td>Men</td>\n",
       "      <td>15</td>\n",
       "      <td>37500</td>\n",
       "    </tr>\n",
       "    <tr>\n",
       "      <th>7558</th>\n",
       "      <td>30-Dec-2020</td>\n",
       "      <td>Evening</td>\n",
       "      <td>TAS</td>\n",
       "      <td>Women</td>\n",
       "      <td>11</td>\n",
       "      <td>27500</td>\n",
       "    </tr>\n",
       "    <tr>\n",
       "      <th>7559</th>\n",
       "      <td>30-Dec-2020</td>\n",
       "      <td>Evening</td>\n",
       "      <td>TAS</td>\n",
       "      <td>Seniors</td>\n",
       "      <td>13</td>\n",
       "      <td>32500</td>\n",
       "    </tr>\n",
       "  </tbody>\n",
       "</table>\n",
       "<p>7560 rows × 6 columns</p>\n",
       "</div>"
      ],
      "text/plain": [
       "             Date        Time State     Group  Unit  Sales\n",
       "0      1-Oct-2020     Morning    WA      Kids     8  20000\n",
       "1      1-Oct-2020     Morning    WA       Men     8  20000\n",
       "2      1-Oct-2020     Morning    WA     Women     4  10000\n",
       "3      1-Oct-2020     Morning    WA   Seniors    15  37500\n",
       "4      1-Oct-2020   Afternoon    WA      Kids     3   7500\n",
       "...           ...         ...   ...       ...   ...    ...\n",
       "7555  30-Dec-2020   Afternoon   TAS   Seniors    14  35000\n",
       "7556  30-Dec-2020     Evening   TAS      Kids    15  37500\n",
       "7557  30-Dec-2020     Evening   TAS       Men    15  37500\n",
       "7558  30-Dec-2020     Evening   TAS     Women    11  27500\n",
       "7559  30-Dec-2020     Evening   TAS   Seniors    13  32500\n",
       "\n",
       "[7560 rows x 6 columns]"
      ]
     },
     "execution_count": 3,
     "metadata": {},
     "output_type": "execute_result"
    }
   ],
   "source": [
    "sa = pd.read_csv(\"AusApparalSales4thQrt2020.csv\")\n",
    "sa"
   ]
  },
  {
   "cell_type": "code",
   "execution_count": 4,
   "id": "cf0fcea2-ae73-4a46-a7c1-22bdc5c9d574",
   "metadata": {},
   "outputs": [
    {
     "data": {
      "text/html": [
       "<div>\n",
       "<style scoped>\n",
       "    .dataframe tbody tr th:only-of-type {\n",
       "        vertical-align: middle;\n",
       "    }\n",
       "\n",
       "    .dataframe tbody tr th {\n",
       "        vertical-align: top;\n",
       "    }\n",
       "\n",
       "    .dataframe thead th {\n",
       "        text-align: right;\n",
       "    }\n",
       "</style>\n",
       "<table border=\"1\" class=\"dataframe\">\n",
       "  <thead>\n",
       "    <tr style=\"text-align: right;\">\n",
       "      <th></th>\n",
       "      <th>Date</th>\n",
       "      <th>Time</th>\n",
       "      <th>State</th>\n",
       "      <th>Group</th>\n",
       "      <th>Unit</th>\n",
       "      <th>Sales</th>\n",
       "    </tr>\n",
       "  </thead>\n",
       "  <tbody>\n",
       "    <tr>\n",
       "      <th>0</th>\n",
       "      <td>1-Oct-2020</td>\n",
       "      <td>Morning</td>\n",
       "      <td>WA</td>\n",
       "      <td>Kids</td>\n",
       "      <td>8</td>\n",
       "      <td>20000</td>\n",
       "    </tr>\n",
       "    <tr>\n",
       "      <th>1</th>\n",
       "      <td>1-Oct-2020</td>\n",
       "      <td>Morning</td>\n",
       "      <td>WA</td>\n",
       "      <td>Men</td>\n",
       "      <td>8</td>\n",
       "      <td>20000</td>\n",
       "    </tr>\n",
       "    <tr>\n",
       "      <th>2</th>\n",
       "      <td>1-Oct-2020</td>\n",
       "      <td>Morning</td>\n",
       "      <td>WA</td>\n",
       "      <td>Women</td>\n",
       "      <td>4</td>\n",
       "      <td>10000</td>\n",
       "    </tr>\n",
       "    <tr>\n",
       "      <th>3</th>\n",
       "      <td>1-Oct-2020</td>\n",
       "      <td>Morning</td>\n",
       "      <td>WA</td>\n",
       "      <td>Seniors</td>\n",
       "      <td>15</td>\n",
       "      <td>37500</td>\n",
       "    </tr>\n",
       "    <tr>\n",
       "      <th>4</th>\n",
       "      <td>1-Oct-2020</td>\n",
       "      <td>Afternoon</td>\n",
       "      <td>WA</td>\n",
       "      <td>Kids</td>\n",
       "      <td>3</td>\n",
       "      <td>7500</td>\n",
       "    </tr>\n",
       "    <tr>\n",
       "      <th>5</th>\n",
       "      <td>1-Oct-2020</td>\n",
       "      <td>Afternoon</td>\n",
       "      <td>WA</td>\n",
       "      <td>Men</td>\n",
       "      <td>10</td>\n",
       "      <td>25000</td>\n",
       "    </tr>\n",
       "    <tr>\n",
       "      <th>6</th>\n",
       "      <td>1-Oct-2020</td>\n",
       "      <td>Afternoon</td>\n",
       "      <td>WA</td>\n",
       "      <td>Women</td>\n",
       "      <td>3</td>\n",
       "      <td>7500</td>\n",
       "    </tr>\n",
       "    <tr>\n",
       "      <th>7</th>\n",
       "      <td>1-Oct-2020</td>\n",
       "      <td>Afternoon</td>\n",
       "      <td>WA</td>\n",
       "      <td>Seniors</td>\n",
       "      <td>11</td>\n",
       "      <td>27500</td>\n",
       "    </tr>\n",
       "    <tr>\n",
       "      <th>8</th>\n",
       "      <td>1-Oct-2020</td>\n",
       "      <td>Evening</td>\n",
       "      <td>WA</td>\n",
       "      <td>Kids</td>\n",
       "      <td>15</td>\n",
       "      <td>37500</td>\n",
       "    </tr>\n",
       "    <tr>\n",
       "      <th>9</th>\n",
       "      <td>1-Oct-2020</td>\n",
       "      <td>Evening</td>\n",
       "      <td>WA</td>\n",
       "      <td>Men</td>\n",
       "      <td>15</td>\n",
       "      <td>37500</td>\n",
       "    </tr>\n",
       "  </tbody>\n",
       "</table>\n",
       "</div>"
      ],
      "text/plain": [
       "         Date        Time State     Group  Unit  Sales\n",
       "0  1-Oct-2020     Morning    WA      Kids     8  20000\n",
       "1  1-Oct-2020     Morning    WA       Men     8  20000\n",
       "2  1-Oct-2020     Morning    WA     Women     4  10000\n",
       "3  1-Oct-2020     Morning    WA   Seniors    15  37500\n",
       "4  1-Oct-2020   Afternoon    WA      Kids     3   7500\n",
       "5  1-Oct-2020   Afternoon    WA       Men    10  25000\n",
       "6  1-Oct-2020   Afternoon    WA     Women     3   7500\n",
       "7  1-Oct-2020   Afternoon    WA   Seniors    11  27500\n",
       "8  1-Oct-2020     Evening    WA      Kids    15  37500\n",
       "9  1-Oct-2020     Evening    WA       Men    15  37500"
      ]
     },
     "execution_count": 4,
     "metadata": {},
     "output_type": "execute_result"
    }
   ],
   "source": [
    "sa.head(10)"
   ]
  },
  {
   "cell_type": "code",
   "execution_count": 5,
   "id": "e42a6dd3-6f91-4e1c-b58b-9db99307a787",
   "metadata": {},
   "outputs": [
    {
     "name": "stdout",
     "output_type": "stream",
     "text": [
      "<class 'pandas.core.frame.DataFrame'>\n",
      "RangeIndex: 7560 entries, 0 to 7559\n",
      "Data columns (total 6 columns):\n",
      " #   Column  Non-Null Count  Dtype \n",
      "---  ------  --------------  ----- \n",
      " 0   Date    7560 non-null   object\n",
      " 1   Time    7560 non-null   object\n",
      " 2   State   7560 non-null   object\n",
      " 3   Group   7560 non-null   object\n",
      " 4   Unit    7560 non-null   int64 \n",
      " 5   Sales   7560 non-null   int64 \n",
      "dtypes: int64(2), object(4)\n",
      "memory usage: 354.5+ KB\n"
     ]
    }
   ],
   "source": [
    "sa.info()"
   ]
  },
  {
   "cell_type": "code",
   "execution_count": 6,
   "id": "2b19d3af-053f-4626-9355-9dfdde98e71c",
   "metadata": {},
   "outputs": [
    {
     "data": {
      "text/html": [
       "<div>\n",
       "<style scoped>\n",
       "    .dataframe tbody tr th:only-of-type {\n",
       "        vertical-align: middle;\n",
       "    }\n",
       "\n",
       "    .dataframe tbody tr th {\n",
       "        vertical-align: top;\n",
       "    }\n",
       "\n",
       "    .dataframe thead th {\n",
       "        text-align: right;\n",
       "    }\n",
       "</style>\n",
       "<table border=\"1\" class=\"dataframe\">\n",
       "  <thead>\n",
       "    <tr style=\"text-align: right;\">\n",
       "      <th></th>\n",
       "      <th>Unit</th>\n",
       "      <th>Sales</th>\n",
       "    </tr>\n",
       "  </thead>\n",
       "  <tbody>\n",
       "    <tr>\n",
       "      <th>count</th>\n",
       "      <td>7560.000000</td>\n",
       "      <td>7560.000000</td>\n",
       "    </tr>\n",
       "    <tr>\n",
       "      <th>mean</th>\n",
       "      <td>18.005423</td>\n",
       "      <td>45013.558201</td>\n",
       "    </tr>\n",
       "    <tr>\n",
       "      <th>std</th>\n",
       "      <td>12.901403</td>\n",
       "      <td>32253.506944</td>\n",
       "    </tr>\n",
       "    <tr>\n",
       "      <th>min</th>\n",
       "      <td>2.000000</td>\n",
       "      <td>5000.000000</td>\n",
       "    </tr>\n",
       "    <tr>\n",
       "      <th>25%</th>\n",
       "      <td>8.000000</td>\n",
       "      <td>20000.000000</td>\n",
       "    </tr>\n",
       "    <tr>\n",
       "      <th>50%</th>\n",
       "      <td>14.000000</td>\n",
       "      <td>35000.000000</td>\n",
       "    </tr>\n",
       "    <tr>\n",
       "      <th>75%</th>\n",
       "      <td>26.000000</td>\n",
       "      <td>65000.000000</td>\n",
       "    </tr>\n",
       "    <tr>\n",
       "      <th>max</th>\n",
       "      <td>65.000000</td>\n",
       "      <td>162500.000000</td>\n",
       "    </tr>\n",
       "  </tbody>\n",
       "</table>\n",
       "</div>"
      ],
      "text/plain": [
       "              Unit          Sales\n",
       "count  7560.000000    7560.000000\n",
       "mean     18.005423   45013.558201\n",
       "std      12.901403   32253.506944\n",
       "min       2.000000    5000.000000\n",
       "25%       8.000000   20000.000000\n",
       "50%      14.000000   35000.000000\n",
       "75%      26.000000   65000.000000\n",
       "max      65.000000  162500.000000"
      ]
     },
     "execution_count": 6,
     "metadata": {},
     "output_type": "execute_result"
    }
   ],
   "source": [
    "sa.describe()"
   ]
  },
  {
   "cell_type": "code",
   "execution_count": 7,
   "id": "8b0e3146-e78d-4485-af95-5999dfd458a2",
   "metadata": {},
   "outputs": [
    {
     "data": {
      "text/plain": [
       "Date     0\n",
       "Time     0\n",
       "State    0\n",
       "Group    0\n",
       "Unit     0\n",
       "Sales    0\n",
       "dtype: int64"
      ]
     },
     "execution_count": 7,
     "metadata": {},
     "output_type": "execute_result"
    }
   ],
   "source": [
    "sa.isnull().sum() ## checking null values"
   ]
  },
  {
   "cell_type": "code",
   "execution_count": 8,
   "id": "d6255815-903e-4488-8021-db73490dba6b",
   "metadata": {},
   "outputs": [
    {
     "data": {
      "text/plain": [
       "0       False\n",
       "1       False\n",
       "2       False\n",
       "3       False\n",
       "4       False\n",
       "        ...  \n",
       "7555    False\n",
       "7556    False\n",
       "7557    False\n",
       "7558    False\n",
       "7559    False\n",
       "Length: 7560, dtype: bool"
      ]
     },
     "execution_count": 8,
     "metadata": {},
     "output_type": "execute_result"
    }
   ],
   "source": [
    "sa.duplicated()"
   ]
  },
  {
   "cell_type": "code",
   "execution_count": 9,
   "id": "3fdc612b-5634-4c73-bf0d-11d5bfc0c212",
   "metadata": {},
   "outputs": [
    {
     "data": {
      "text/html": [
       "<div>\n",
       "<style scoped>\n",
       "    .dataframe tbody tr th:only-of-type {\n",
       "        vertical-align: middle;\n",
       "    }\n",
       "\n",
       "    .dataframe tbody tr th {\n",
       "        vertical-align: top;\n",
       "    }\n",
       "\n",
       "    .dataframe thead th {\n",
       "        text-align: right;\n",
       "    }\n",
       "</style>\n",
       "<table border=\"1\" class=\"dataframe\">\n",
       "  <thead>\n",
       "    <tr style=\"text-align: right;\">\n",
       "      <th></th>\n",
       "      <th>Date</th>\n",
       "      <th>Time</th>\n",
       "      <th>State</th>\n",
       "      <th>Group</th>\n",
       "      <th>Unit</th>\n",
       "      <th>Sales</th>\n",
       "    </tr>\n",
       "  </thead>\n",
       "  <tbody>\n",
       "  </tbody>\n",
       "</table>\n",
       "</div>"
      ],
      "text/plain": [
       "Empty DataFrame\n",
       "Columns: [Date, Time, State, Group, Unit, Sales]\n",
       "Index: []"
      ]
     },
     "execution_count": 9,
     "metadata": {},
     "output_type": "execute_result"
    }
   ],
   "source": [
    "sa[sa.duplicated()]"
   ]
  },
  {
   "cell_type": "code",
   "execution_count": 10,
   "id": "0bcd7af5-d940-4ef4-a431-f6b11cc32d64",
   "metadata": {},
   "outputs": [
    {
     "data": {
      "text/plain": [
       "Date     0\n",
       "Time     0\n",
       "State    0\n",
       "Group    0\n",
       "Unit     0\n",
       "Sales    0\n",
       "dtype: int64"
      ]
     },
     "execution_count": 10,
     "metadata": {},
     "output_type": "execute_result"
    }
   ],
   "source": [
    "sa[sa.duplicated()].count()"
   ]
  },
  {
   "cell_type": "code",
   "execution_count": 11,
   "id": "e14c5b7b-f8f1-4740-b2bf-2cd325843217",
   "metadata": {},
   "outputs": [
    {
     "data": {
      "text/html": [
       "<div>\n",
       "<style scoped>\n",
       "    .dataframe tbody tr th:only-of-type {\n",
       "        vertical-align: middle;\n",
       "    }\n",
       "\n",
       "    .dataframe tbody tr th {\n",
       "        vertical-align: top;\n",
       "    }\n",
       "\n",
       "    .dataframe thead th {\n",
       "        text-align: right;\n",
       "    }\n",
       "</style>\n",
       "<table border=\"1\" class=\"dataframe\">\n",
       "  <thead>\n",
       "    <tr style=\"text-align: right;\">\n",
       "      <th></th>\n",
       "      <th>Date</th>\n",
       "      <th>Time</th>\n",
       "      <th>State</th>\n",
       "      <th>Group</th>\n",
       "      <th>Unit</th>\n",
       "      <th>Sales</th>\n",
       "    </tr>\n",
       "  </thead>\n",
       "  <tbody>\n",
       "    <tr>\n",
       "      <th>0</th>\n",
       "      <td>1-Oct-2020</td>\n",
       "      <td>Morning</td>\n",
       "      <td>WA</td>\n",
       "      <td>Kids</td>\n",
       "      <td>8</td>\n",
       "      <td>20000</td>\n",
       "    </tr>\n",
       "    <tr>\n",
       "      <th>1</th>\n",
       "      <td>1-Oct-2020</td>\n",
       "      <td>Morning</td>\n",
       "      <td>WA</td>\n",
       "      <td>Men</td>\n",
       "      <td>8</td>\n",
       "      <td>20000</td>\n",
       "    </tr>\n",
       "    <tr>\n",
       "      <th>2</th>\n",
       "      <td>1-Oct-2020</td>\n",
       "      <td>Morning</td>\n",
       "      <td>WA</td>\n",
       "      <td>Women</td>\n",
       "      <td>4</td>\n",
       "      <td>10000</td>\n",
       "    </tr>\n",
       "    <tr>\n",
       "      <th>3</th>\n",
       "      <td>1-Oct-2020</td>\n",
       "      <td>Morning</td>\n",
       "      <td>WA</td>\n",
       "      <td>Seniors</td>\n",
       "      <td>15</td>\n",
       "      <td>37500</td>\n",
       "    </tr>\n",
       "    <tr>\n",
       "      <th>4</th>\n",
       "      <td>1-Oct-2020</td>\n",
       "      <td>Afternoon</td>\n",
       "      <td>WA</td>\n",
       "      <td>Kids</td>\n",
       "      <td>3</td>\n",
       "      <td>7500</td>\n",
       "    </tr>\n",
       "    <tr>\n",
       "      <th>...</th>\n",
       "      <td>...</td>\n",
       "      <td>...</td>\n",
       "      <td>...</td>\n",
       "      <td>...</td>\n",
       "      <td>...</td>\n",
       "      <td>...</td>\n",
       "    </tr>\n",
       "    <tr>\n",
       "      <th>7555</th>\n",
       "      <td>30-Dec-2020</td>\n",
       "      <td>Afternoon</td>\n",
       "      <td>TAS</td>\n",
       "      <td>Seniors</td>\n",
       "      <td>14</td>\n",
       "      <td>35000</td>\n",
       "    </tr>\n",
       "    <tr>\n",
       "      <th>7556</th>\n",
       "      <td>30-Dec-2020</td>\n",
       "      <td>Evening</td>\n",
       "      <td>TAS</td>\n",
       "      <td>Kids</td>\n",
       "      <td>15</td>\n",
       "      <td>37500</td>\n",
       "    </tr>\n",
       "    <tr>\n",
       "      <th>7557</th>\n",
       "      <td>30-Dec-2020</td>\n",
       "      <td>Evening</td>\n",
       "      <td>TAS</td>\n",
       "      <td>Men</td>\n",
       "      <td>15</td>\n",
       "      <td>37500</td>\n",
       "    </tr>\n",
       "    <tr>\n",
       "      <th>7558</th>\n",
       "      <td>30-Dec-2020</td>\n",
       "      <td>Evening</td>\n",
       "      <td>TAS</td>\n",
       "      <td>Women</td>\n",
       "      <td>11</td>\n",
       "      <td>27500</td>\n",
       "    </tr>\n",
       "    <tr>\n",
       "      <th>7559</th>\n",
       "      <td>30-Dec-2020</td>\n",
       "      <td>Evening</td>\n",
       "      <td>TAS</td>\n",
       "      <td>Seniors</td>\n",
       "      <td>13</td>\n",
       "      <td>32500</td>\n",
       "    </tr>\n",
       "  </tbody>\n",
       "</table>\n",
       "<p>7560 rows × 6 columns</p>\n",
       "</div>"
      ],
      "text/plain": [
       "             Date        Time State     Group  Unit  Sales\n",
       "0      1-Oct-2020     Morning    WA      Kids     8  20000\n",
       "1      1-Oct-2020     Morning    WA       Men     8  20000\n",
       "2      1-Oct-2020     Morning    WA     Women     4  10000\n",
       "3      1-Oct-2020     Morning    WA   Seniors    15  37500\n",
       "4      1-Oct-2020   Afternoon    WA      Kids     3   7500\n",
       "...           ...         ...   ...       ...   ...    ...\n",
       "7555  30-Dec-2020   Afternoon   TAS   Seniors    14  35000\n",
       "7556  30-Dec-2020     Evening   TAS      Kids    15  37500\n",
       "7557  30-Dec-2020     Evening   TAS       Men    15  37500\n",
       "7558  30-Dec-2020     Evening   TAS     Women    11  27500\n",
       "7559  30-Dec-2020     Evening   TAS   Seniors    13  32500\n",
       "\n",
       "[7560 rows x 6 columns]"
      ]
     },
     "execution_count": 11,
     "metadata": {},
     "output_type": "execute_result"
    }
   ],
   "source": [
    "sa.drop_duplicates()"
   ]
  },
  {
   "cell_type": "code",
   "execution_count": 12,
   "id": "37569e76-1c24-4fe5-8a87-f5448f7ee483",
   "metadata": {},
   "outputs": [],
   "source": [
    "num_data = sa.select_dtypes('number')"
   ]
  },
  {
   "cell_type": "code",
   "execution_count": 13,
   "id": "a93e2f87-b518-4c3e-aa4b-18cc7e981780",
   "metadata": {},
   "outputs": [],
   "source": [
    "scaled_sa = (num_data - num_data.min())/(num_data.max() - num_data.min())"
   ]
  },
  {
   "cell_type": "code",
   "execution_count": 14,
   "id": "31bcd8a5-09fd-4994-8bec-e73bd75cba64",
   "metadata": {},
   "outputs": [
    {
     "data": {
      "text/html": [
       "<div>\n",
       "<style scoped>\n",
       "    .dataframe tbody tr th:only-of-type {\n",
       "        vertical-align: middle;\n",
       "    }\n",
       "\n",
       "    .dataframe tbody tr th {\n",
       "        vertical-align: top;\n",
       "    }\n",
       "\n",
       "    .dataframe thead th {\n",
       "        text-align: right;\n",
       "    }\n",
       "</style>\n",
       "<table border=\"1\" class=\"dataframe\">\n",
       "  <thead>\n",
       "    <tr style=\"text-align: right;\">\n",
       "      <th></th>\n",
       "      <th>Unit</th>\n",
       "      <th>Sales</th>\n",
       "    </tr>\n",
       "  </thead>\n",
       "  <tbody>\n",
       "    <tr>\n",
       "      <th>count</th>\n",
       "      <td>7560.000000</td>\n",
       "      <td>7560.000000</td>\n",
       "    </tr>\n",
       "    <tr>\n",
       "      <th>mean</th>\n",
       "      <td>0.254054</td>\n",
       "      <td>0.254054</td>\n",
       "    </tr>\n",
       "    <tr>\n",
       "      <th>std</th>\n",
       "      <td>0.204784</td>\n",
       "      <td>0.204784</td>\n",
       "    </tr>\n",
       "    <tr>\n",
       "      <th>min</th>\n",
       "      <td>0.000000</td>\n",
       "      <td>0.000000</td>\n",
       "    </tr>\n",
       "    <tr>\n",
       "      <th>25%</th>\n",
       "      <td>0.095238</td>\n",
       "      <td>0.095238</td>\n",
       "    </tr>\n",
       "    <tr>\n",
       "      <th>50%</th>\n",
       "      <td>0.190476</td>\n",
       "      <td>0.190476</td>\n",
       "    </tr>\n",
       "    <tr>\n",
       "      <th>75%</th>\n",
       "      <td>0.380952</td>\n",
       "      <td>0.380952</td>\n",
       "    </tr>\n",
       "    <tr>\n",
       "      <th>max</th>\n",
       "      <td>1.000000</td>\n",
       "      <td>1.000000</td>\n",
       "    </tr>\n",
       "  </tbody>\n",
       "</table>\n",
       "</div>"
      ],
      "text/plain": [
       "              Unit        Sales\n",
       "count  7560.000000  7560.000000\n",
       "mean      0.254054     0.254054\n",
       "std       0.204784     0.204784\n",
       "min       0.000000     0.000000\n",
       "25%       0.095238     0.095238\n",
       "50%       0.190476     0.190476\n",
       "75%       0.380952     0.380952\n",
       "max       1.000000     1.000000"
      ]
     },
     "execution_count": 14,
     "metadata": {},
     "output_type": "execute_result"
    }
   ],
   "source": [
    "scaled_sa.describe()"
   ]
  },
  {
   "cell_type": "code",
   "execution_count": 15,
   "id": "8c759de4-7fca-4121-8781-0686d4d8188f",
   "metadata": {},
   "outputs": [
    {
     "data": {
      "text/plain": [
       "State\n",
       " NSW    69417.0\n",
       " NT     20907.0\n",
       " QLD    30942.0\n",
       " SA     54498.0\n",
       " TAS    21074.0\n",
       " VIC    97745.0\n",
       " WA     20512.0\n",
       "Name: Sales, dtype: float64"
      ]
     },
     "execution_count": 15,
     "metadata": {},
     "output_type": "execute_result"
    }
   ],
   "source": [
    "round(sa.groupby('State')['Sales'].mean())"
   ]
  },
  {
   "cell_type": "code",
   "execution_count": 16,
   "id": "a3ace2b6-db40-48c8-8d2f-c5c5b1da0ad7",
   "metadata": {},
   "outputs": [
    {
     "data": {
      "text/plain": [
       "State\n",
       " NSW    1080\n",
       " NT     1080\n",
       " QLD    1080\n",
       " SA     1080\n",
       " TAS    1080\n",
       " VIC    1080\n",
       " WA     1080\n",
       "Name: Sales, dtype: int64"
      ]
     },
     "execution_count": 16,
     "metadata": {},
     "output_type": "execute_result"
    }
   ],
   "source": [
    "round(sa.groupby('State')['Sales'].count())"
   ]
  },
  {
   "cell_type": "code",
   "execution_count": 17,
   "id": "9575bb01-5a7a-454d-823c-e9502c5ac7a4",
   "metadata": {},
   "outputs": [
    {
     "name": "stdout",
     "output_type": "stream",
     "text": [
      "<class 'pandas.core.frame.DataFrame'>\n",
      "RangeIndex: 7560 entries, 0 to 7559\n",
      "Data columns (total 6 columns):\n",
      " #   Column  Non-Null Count  Dtype \n",
      "---  ------  --------------  ----- \n",
      " 0   Date    7560 non-null   object\n",
      " 1   Time    7560 non-null   object\n",
      " 2   State   7560 non-null   object\n",
      " 3   Group   7560 non-null   object\n",
      " 4   Unit    7560 non-null   int64 \n",
      " 5   Sales   7560 non-null   int64 \n",
      "dtypes: int64(2), object(4)\n",
      "memory usage: 354.5+ KB\n"
     ]
    }
   ],
   "source": [
    "sa.info()"
   ]
  },
  {
   "cell_type": "code",
   "execution_count": 18,
   "id": "81dd4f9b-9d68-4c89-84a5-ba777d2b4cb5",
   "metadata": {},
   "outputs": [
    {
     "name": "stdout",
     "output_type": "stream",
     "text": [
      "<class 'pandas.core.frame.DataFrame'>\n",
      "RangeIndex: 7560 entries, 0 to 7559\n",
      "Data columns (total 6 columns):\n",
      " #   Column  Non-Null Count  Dtype         \n",
      "---  ------  --------------  -----         \n",
      " 0   Date    7560 non-null   datetime64[ns]\n",
      " 1   Time    7560 non-null   object        \n",
      " 2   State   7560 non-null   object        \n",
      " 3   Group   7560 non-null   object        \n",
      " 4   Unit    7560 non-null   int64         \n",
      " 5   Sales   7560 non-null   int64         \n",
      "dtypes: datetime64[ns](1), int64(2), object(3)\n",
      "memory usage: 354.5+ KB\n"
     ]
    }
   ],
   "source": [
    "sa['Date'] = pd.to_datetime(sa['Date'], format=\"%d-%b-%Y\")\n",
    "sa.info()"
   ]
  },
  {
   "cell_type": "code",
   "execution_count": 19,
   "id": "d3a4ef37-7029-4c92-a4a9-0824ce7e8ce6",
   "metadata": {},
   "outputs": [],
   "source": [
    "sa.set_index('Date', inplace=True)"
   ]
  },
  {
   "cell_type": "code",
   "execution_count": 20,
   "id": "ca07351b-ec5a-4778-b272-6741c1326e61",
   "metadata": {},
   "outputs": [
    {
     "name": "stdout",
     "output_type": "stream",
     "text": [
      "Index(['Time', 'State', 'Group', 'Unit', 'Sales'], dtype='object')\n"
     ]
    }
   ],
   "source": [
    "print(sa.columns)"
   ]
  },
  {
   "cell_type": "code",
   "execution_count": 21,
   "id": "430f8f71-398c-4f1d-ada2-72c0727e81b2",
   "metadata": {},
   "outputs": [],
   "source": [
    "sa.columns = sa.columns.str.strip()"
   ]
  },
  {
   "cell_type": "code",
   "execution_count": 22,
   "id": "c1615317-4741-4c7c-9778-6b7e662272b5",
   "metadata": {},
   "outputs": [
    {
     "data": {
      "text/html": [
       "<div>\n",
       "<style scoped>\n",
       "    .dataframe tbody tr th:only-of-type {\n",
       "        vertical-align: middle;\n",
       "    }\n",
       "\n",
       "    .dataframe tbody tr th {\n",
       "        vertical-align: top;\n",
       "    }\n",
       "\n",
       "    .dataframe thead th {\n",
       "        text-align: right;\n",
       "    }\n",
       "</style>\n",
       "<table border=\"1\" class=\"dataframe\">\n",
       "  <thead>\n",
       "    <tr style=\"text-align: right;\">\n",
       "      <th></th>\n",
       "      <th>Time</th>\n",
       "      <th>State</th>\n",
       "      <th>Group</th>\n",
       "      <th>Unit</th>\n",
       "      <th>Sales</th>\n",
       "    </tr>\n",
       "    <tr>\n",
       "      <th>Date</th>\n",
       "      <th></th>\n",
       "      <th></th>\n",
       "      <th></th>\n",
       "      <th></th>\n",
       "      <th></th>\n",
       "    </tr>\n",
       "  </thead>\n",
       "  <tbody>\n",
       "    <tr>\n",
       "      <th>2020-10-01</th>\n",
       "      <td>Morning</td>\n",
       "      <td>WA</td>\n",
       "      <td>Kids</td>\n",
       "      <td>8</td>\n",
       "      <td>20000</td>\n",
       "    </tr>\n",
       "    <tr>\n",
       "      <th>2020-10-01</th>\n",
       "      <td>Morning</td>\n",
       "      <td>WA</td>\n",
       "      <td>Men</td>\n",
       "      <td>8</td>\n",
       "      <td>20000</td>\n",
       "    </tr>\n",
       "    <tr>\n",
       "      <th>2020-10-01</th>\n",
       "      <td>Morning</td>\n",
       "      <td>WA</td>\n",
       "      <td>Women</td>\n",
       "      <td>4</td>\n",
       "      <td>10000</td>\n",
       "    </tr>\n",
       "    <tr>\n",
       "      <th>2020-10-01</th>\n",
       "      <td>Morning</td>\n",
       "      <td>WA</td>\n",
       "      <td>Seniors</td>\n",
       "      <td>15</td>\n",
       "      <td>37500</td>\n",
       "    </tr>\n",
       "    <tr>\n",
       "      <th>2020-10-01</th>\n",
       "      <td>Afternoon</td>\n",
       "      <td>WA</td>\n",
       "      <td>Kids</td>\n",
       "      <td>3</td>\n",
       "      <td>7500</td>\n",
       "    </tr>\n",
       "  </tbody>\n",
       "</table>\n",
       "</div>"
      ],
      "text/plain": [
       "                  Time State     Group  Unit  Sales\n",
       "Date                                               \n",
       "2020-10-01     Morning    WA      Kids     8  20000\n",
       "2020-10-01     Morning    WA       Men     8  20000\n",
       "2020-10-01     Morning    WA     Women     4  10000\n",
       "2020-10-01     Morning    WA   Seniors    15  37500\n",
       "2020-10-01   Afternoon    WA      Kids     3   7500"
      ]
     },
     "execution_count": 22,
     "metadata": {},
     "output_type": "execute_result"
    }
   ],
   "source": [
    "sa.head()"
   ]
  },
  {
   "cell_type": "code",
   "execution_count": 24,
   "id": "217948ac-6cc2-499c-80cd-1a1b10851b7f",
   "metadata": {},
   "outputs": [
    {
     "name": "stdout",
     "output_type": "stream",
     "text": [
      "<class 'pandas.core.frame.DataFrame'>\n",
      "DatetimeIndex: 7560 entries, 2020-10-01 to 2020-12-30\n",
      "Data columns (total 5 columns):\n",
      " #   Column  Non-Null Count  Dtype \n",
      "---  ------  --------------  ----- \n",
      " 0   Time    7560 non-null   object\n",
      " 1   State   7560 non-null   object\n",
      " 2   Group   7560 non-null   object\n",
      " 3   Unit    7560 non-null   int64 \n",
      " 4   Sales   7560 non-null   int64 \n",
      "dtypes: int64(2), object(3)\n",
      "memory usage: 354.4+ KB\n"
     ]
    }
   ],
   "source": [
    "sa.info()"
   ]
  },
  {
   "cell_type": "markdown",
   "id": "8827e8de-7895-4eb8-af3b-a33c0bcc8abe",
   "metadata": {},
   "source": [
    "## Descriptive statistical analysis on the data in the Sales and Units"
   ]
  },
  {
   "cell_type": "code",
   "execution_count": 25,
   "id": "9b75a226-9797-48d7-8e5d-9dda7a82a4ab",
   "metadata": {},
   "outputs": [
    {
     "name": "stdout",
     "output_type": "stream",
     "text": [
      "               Sales         Unit\n",
      "count    7560.000000  7560.000000\n",
      "mean    45013.558201    18.005423\n",
      "std     32253.506944    12.901403\n",
      "min      5000.000000     2.000000\n",
      "25%     20000.000000     8.000000\n",
      "50%     35000.000000    14.000000\n",
      "75%     65000.000000    26.000000\n",
      "max    162500.000000    65.000000\n"
     ]
    }
   ],
   "source": [
    "print(sa[['Sales', 'Unit']].describe())"
   ]
  },
  {
   "cell_type": "code",
   "execution_count": 26,
   "id": "54bb8480-4623-4f79-8cb0-e23b2b55a112",
   "metadata": {
    "scrolled": true
   },
   "outputs": [],
   "source": [
    "mean_unit = sa['Unit'].mean()\n",
    "mean_sales = sa['Sales'].mean()"
   ]
  },
  {
   "cell_type": "code",
   "execution_count": 27,
   "id": "3b51f0af-5238-486c-82b6-74aabf4f8d00",
   "metadata": {},
   "outputs": [],
   "source": [
    "median_unit = sa['Unit'].median()\n",
    "median_sales = sa['Sales'].median()"
   ]
  },
  {
   "cell_type": "code",
   "execution_count": 28,
   "id": "ab5fad98-98fd-41a6-8240-de7198c7e7b1",
   "metadata": {},
   "outputs": [],
   "source": [
    "mode_unit = sa['Unit'].mode()\n",
    "mode_sales = sa['Sales'].mode()"
   ]
  },
  {
   "cell_type": "code",
   "execution_count": 29,
   "id": "21aa22ab-16a1-4d01-8799-c353f3339027",
   "metadata": {},
   "outputs": [],
   "source": [
    "std_unit = sa['Unit'].std()\n",
    "std_sales = sa['Sales'].std()"
   ]
  },
  {
   "cell_type": "code",
   "execution_count": 30,
   "id": "1197aab6-67f8-4f7a-bf2b-52ba96dbaafa",
   "metadata": {},
   "outputs": [
    {
     "name": "stdout",
     "output_type": "stream",
     "text": [
      "\n",
      "Mean Sales: 45013.5582010582, Mean Units: 18.00542328042328\n",
      "Median Sales: 35000.0, Median Units: 14.0\n",
      "Mode Sales: 0    22500\n",
      "Name: Sales, dtype: int64, Mode Units: 0    9\n",
      "Name: Unit, dtype: int64\n",
      "Standard Deviation Sales: 32253.506943966317, Standard Deviation Units: 12.901402777586458\n"
     ]
    }
   ],
   "source": [
    "print(f\"\\nMean Sales: {mean_sales}, Mean Units: {mean_unit}\")\n",
    "print(f\"Median Sales: {median_sales}, Median Units: {median_unit}\")\n",
    "print(f\"Mode Sales: {mode_sales}, Mode Units: {mode_unit}\")\n",
    "print(f\"Standard Deviation Sales: {std_sales}, Standard Deviation Units: {std_unit}\")"
   ]
  },
  {
   "cell_type": "markdown",
   "id": "96a5d559-1aab-42bb-aa9d-23ee1c974cb1",
   "metadata": {},
   "source": [
    "##  Group with the highest sales and Group with the lowest sales"
   ]
  },
  {
   "cell_type": "code",
   "execution_count": 31,
   "id": "fa938e02-b87b-4d20-b048-e7536fd6d4ea",
   "metadata": {},
   "outputs": [
    {
     "data": {
      "text/plain": [
       "State\n",
       " NSW    69416.666667\n",
       " NT     20907.407407\n",
       " QLD    30942.129630\n",
       " SA     54497.685185\n",
       " TAS    21074.074074\n",
       " VIC    97745.370370\n",
       " WA     20511.574074\n",
       "Name: Sales, dtype: float64"
      ]
     },
     "execution_count": 31,
     "metadata": {},
     "output_type": "execute_result"
    }
   ],
   "source": [
    "State_sales = sa.groupby('State')['Sales'].mean()\n",
    "State_sales"
   ]
  },
  {
   "cell_type": "code",
   "execution_count": 32,
   "id": "e6c0e465-1091-41df-b351-2675fd356c27",
   "metadata": {},
   "outputs": [],
   "source": [
    "Group_sales = sa.groupby('Group')['Sales'].mean()"
   ]
  },
  {
   "cell_type": "code",
   "execution_count": 33,
   "id": "c151d24e-958b-452b-b343-5960db5e526f",
   "metadata": {},
   "outputs": [],
   "source": [
    "high_sales_value = State_sales.max()\n",
    "high_group_value = Group_sales.max()"
   ]
  },
  {
   "cell_type": "code",
   "execution_count": 34,
   "id": "4ca3dc1a-19c2-4a32-a222-aab36715b063",
   "metadata": {},
   "outputs": [],
   "source": [
    "low_sales_value = State_sales.min()\n",
    "low_group_value = Group_sales.min()"
   ]
  },
  {
   "cell_type": "code",
   "execution_count": 35,
   "id": "e30e196c-a0fe-4013-b7b4-a2a9eff3dd57",
   "metadata": {},
   "outputs": [],
   "source": [
    "high_st_sales = State_sales.idxmax()\n",
    "high_gp_sales = Group_sales.idxmax()"
   ]
  },
  {
   "cell_type": "code",
   "execution_count": 36,
   "id": "ceff4264-5734-47a5-b642-1fc0cf80775d",
   "metadata": {},
   "outputs": [],
   "source": [
    "low_st_sales = State_sales.idxmax()\n",
    "low_gp_sales = Group_sales.idxmin()"
   ]
  },
  {
   "cell_type": "code",
   "execution_count": 37,
   "id": "d4befb1d-c5fc-4b0b-8ddc-1b38ba40c195",
   "metadata": {},
   "outputs": [
    {
     "name": "stdout",
     "output_type": "stream",
     "text": [
      "\n",
      "State with Highest Sales:  VIC - 97745.37\n",
      "\n",
      "Group with Highest Sales:  Men - 45370.37\n"
     ]
    }
   ],
   "source": [
    "print(f\"\\nState with Highest Sales: {high_st_sales} - {high_sales_value:.2f}\")\n",
    "print(f\"\\nGroup with Highest Sales: {high_gp_sales} - {high_group_value:.2f}\")"
   ]
  },
  {
   "cell_type": "code",
   "execution_count": 38,
   "id": "b39caf7f-2eab-4915-8dcc-9f1e48274413",
   "metadata": {},
   "outputs": [
    {
     "name": "stdout",
     "output_type": "stream",
     "text": [
      "State with Lowest Sales:  VIC - 20511.57\n",
      "Group with Lowest Sales:  Seniors - 44464.29\n"
     ]
    }
   ],
   "source": [
    "print(f\"State with Lowest Sales: {low_st_sales} - {low_sales_value:.2f}\")\n",
    "print(f\"Group with Lowest Sales: {low_gp_sales} - {low_group_value:.2f}\")"
   ]
  },
  {
   "cell_type": "code",
   "execution_count": 39,
   "id": "c91d9f79-ccff-4b6b-9943-39a8f904aee1",
   "metadata": {},
   "outputs": [
    {
     "data": {
      "text/plain": [
       "Date\n",
       "2020-10-01    44286.0\n",
       "2020-10-02    44226.0\n",
       "2020-10-03    46310.0\n",
       "2020-10-04    44286.0\n",
       "2020-10-05    45982.0\n",
       "               ...   \n",
       "2020-12-26    56131.0\n",
       "2020-12-27    55208.0\n",
       "2020-12-28    54702.0\n",
       "2020-12-29    54851.0\n",
       "2020-12-30    54643.0\n",
       "Name: Sales, Length: 90, dtype: float64"
      ]
     },
     "execution_count": 39,
     "metadata": {},
     "output_type": "execute_result"
    }
   ],
   "source": [
    "round(sa.groupby('Date')['Sales'].mean())"
   ]
  },
  {
   "cell_type": "code",
   "execution_count": 40,
   "id": "5d76f09a-2334-4cbb-b153-f0b8cabcdab2",
   "metadata": {},
   "outputs": [],
   "source": [
    "date_wise = sa.reset_index()[['Date', 'Sales']]"
   ]
  },
  {
   "cell_type": "code",
   "execution_count": 41,
   "id": "80ccbf33-29a0-4373-8177-f87175dff46a",
   "metadata": {},
   "outputs": [
    {
     "data": {
      "text/html": [
       "<div>\n",
       "<style scoped>\n",
       "    .dataframe tbody tr th:only-of-type {\n",
       "        vertical-align: middle;\n",
       "    }\n",
       "\n",
       "    .dataframe tbody tr th {\n",
       "        vertical-align: top;\n",
       "    }\n",
       "\n",
       "    .dataframe thead th {\n",
       "        text-align: right;\n",
       "    }\n",
       "</style>\n",
       "<table border=\"1\" class=\"dataframe\">\n",
       "  <thead>\n",
       "    <tr style=\"text-align: right;\">\n",
       "      <th></th>\n",
       "      <th>Date</th>\n",
       "      <th>Sales</th>\n",
       "    </tr>\n",
       "  </thead>\n",
       "  <tbody>\n",
       "    <tr>\n",
       "      <th>0</th>\n",
       "      <td>2020-10-01</td>\n",
       "      <td>20000</td>\n",
       "    </tr>\n",
       "    <tr>\n",
       "      <th>1</th>\n",
       "      <td>2020-10-01</td>\n",
       "      <td>20000</td>\n",
       "    </tr>\n",
       "    <tr>\n",
       "      <th>2</th>\n",
       "      <td>2020-10-01</td>\n",
       "      <td>10000</td>\n",
       "    </tr>\n",
       "    <tr>\n",
       "      <th>3</th>\n",
       "      <td>2020-10-01</td>\n",
       "      <td>37500</td>\n",
       "    </tr>\n",
       "    <tr>\n",
       "      <th>4</th>\n",
       "      <td>2020-10-01</td>\n",
       "      <td>7500</td>\n",
       "    </tr>\n",
       "    <tr>\n",
       "      <th>5</th>\n",
       "      <td>2020-10-01</td>\n",
       "      <td>25000</td>\n",
       "    </tr>\n",
       "    <tr>\n",
       "      <th>6</th>\n",
       "      <td>2020-10-01</td>\n",
       "      <td>7500</td>\n",
       "    </tr>\n",
       "    <tr>\n",
       "      <th>7</th>\n",
       "      <td>2020-10-01</td>\n",
       "      <td>27500</td>\n",
       "    </tr>\n",
       "    <tr>\n",
       "      <th>8</th>\n",
       "      <td>2020-10-01</td>\n",
       "      <td>37500</td>\n",
       "    </tr>\n",
       "    <tr>\n",
       "      <th>9</th>\n",
       "      <td>2020-10-01</td>\n",
       "      <td>37500</td>\n",
       "    </tr>\n",
       "  </tbody>\n",
       "</table>\n",
       "</div>"
      ],
      "text/plain": [
       "        Date  Sales\n",
       "0 2020-10-01  20000\n",
       "1 2020-10-01  20000\n",
       "2 2020-10-01  10000\n",
       "3 2020-10-01  37500\n",
       "4 2020-10-01   7500\n",
       "5 2020-10-01  25000\n",
       "6 2020-10-01   7500\n",
       "7 2020-10-01  27500\n",
       "8 2020-10-01  37500\n",
       "9 2020-10-01  37500"
      ]
     },
     "execution_count": 41,
     "metadata": {},
     "output_type": "execute_result"
    }
   ],
   "source": [
    "date_wise.head(10)"
   ]
  },
  {
   "cell_type": "markdown",
   "id": "faf4afa3-f752-4a19-b145-243c0881d33f",
   "metadata": {},
   "source": [
    "## Weekly, Monthly, and Quarterly reports in CSV"
   ]
  },
  {
   "cell_type": "code",
   "execution_count": 42,
   "id": "5aa4aa63-b5fb-4965-a917-0e4185a9069b",
   "metadata": {},
   "outputs": [],
   "source": [
    "week_report = sa.resample('W').sum()\n",
    "Month_report = sa.resample('M').sum()\n",
    "quarter_report = sa.resample('Q').sum()"
   ]
  },
  {
   "cell_type": "code",
   "execution_count": 43,
   "id": "d09d6474-fd5c-45d3-8bf6-a7eebe8186a4",
   "metadata": {},
   "outputs": [
    {
     "data": {
      "text/html": [
       "<div>\n",
       "<style scoped>\n",
       "    .dataframe tbody tr th:only-of-type {\n",
       "        vertical-align: middle;\n",
       "    }\n",
       "\n",
       "    .dataframe tbody tr th {\n",
       "        vertical-align: top;\n",
       "    }\n",
       "\n",
       "    .dataframe thead th {\n",
       "        text-align: right;\n",
       "    }\n",
       "</style>\n",
       "<table border=\"1\" class=\"dataframe\">\n",
       "  <thead>\n",
       "    <tr style=\"text-align: right;\">\n",
       "      <th></th>\n",
       "      <th>Time</th>\n",
       "      <th>State</th>\n",
       "      <th>Group</th>\n",
       "      <th>Unit</th>\n",
       "      <th>Sales</th>\n",
       "    </tr>\n",
       "    <tr>\n",
       "      <th>Date</th>\n",
       "      <th></th>\n",
       "      <th></th>\n",
       "      <th></th>\n",
       "      <th></th>\n",
       "      <th></th>\n",
       "    </tr>\n",
       "  </thead>\n",
       "  <tbody>\n",
       "    <tr>\n",
       "      <th>2020-10-04</th>\n",
       "      <td>Morning Morning Morning Morning Afternoon Aft...</td>\n",
       "      <td>WA WA WA WA WA WA WA WA WA WA WA WA NT NT NT ...</td>\n",
       "      <td>Kids Men Women Seniors Kids Men Women Seniors...</td>\n",
       "      <td>6018</td>\n",
       "      <td>15045000</td>\n",
       "    </tr>\n",
       "    <tr>\n",
       "      <th>2020-10-11</th>\n",
       "      <td>Morning Morning Morning Morning Afternoon Aft...</td>\n",
       "      <td>WA WA WA WA WA WA WA WA WA WA WA WA NT NT NT ...</td>\n",
       "      <td>Kids Men Women Seniors Kids Men Women Seniors...</td>\n",
       "      <td>10801</td>\n",
       "      <td>27002500</td>\n",
       "    </tr>\n",
       "    <tr>\n",
       "      <th>2020-10-18</th>\n",
       "      <td>Morning Morning Morning Morning Afternoon Aft...</td>\n",
       "      <td>WA WA WA WA WA WA WA WA WA WA WA WA NT NT NT ...</td>\n",
       "      <td>Kids Men Women Seniors Kids Men Women Seniors...</td>\n",
       "      <td>10656</td>\n",
       "      <td>26640000</td>\n",
       "    </tr>\n",
       "    <tr>\n",
       "      <th>2020-10-25</th>\n",
       "      <td>Morning Morning Morning Morning Afternoon Aft...</td>\n",
       "      <td>WA WA WA WA WA WA WA WA WA WA WA WA NT NT NT ...</td>\n",
       "      <td>Kids Men Women Seniors Kids Men Women Seniors...</td>\n",
       "      <td>10726</td>\n",
       "      <td>26815000</td>\n",
       "    </tr>\n",
       "    <tr>\n",
       "      <th>2020-11-01</th>\n",
       "      <td>Morning Morning Morning Morning Afternoon Aft...</td>\n",
       "      <td>WA WA WA WA WA WA WA WA WA WA WA WA NT NT NT ...</td>\n",
       "      <td>Kids Men Women Seniors Kids Men Women Seniors...</td>\n",
       "      <td>8723</td>\n",
       "      <td>21807500</td>\n",
       "    </tr>\n",
       "  </tbody>\n",
       "</table>\n",
       "</div>"
      ],
      "text/plain": [
       "                                                         Time  \\\n",
       "Date                                                            \n",
       "2020-10-04   Morning Morning Morning Morning Afternoon Aft...   \n",
       "2020-10-11   Morning Morning Morning Morning Afternoon Aft...   \n",
       "2020-10-18   Morning Morning Morning Morning Afternoon Aft...   \n",
       "2020-10-25   Morning Morning Morning Morning Afternoon Aft...   \n",
       "2020-11-01   Morning Morning Morning Morning Afternoon Aft...   \n",
       "\n",
       "                                                        State  \\\n",
       "Date                                                            \n",
       "2020-10-04   WA WA WA WA WA WA WA WA WA WA WA WA NT NT NT ...   \n",
       "2020-10-11   WA WA WA WA WA WA WA WA WA WA WA WA NT NT NT ...   \n",
       "2020-10-18   WA WA WA WA WA WA WA WA WA WA WA WA NT NT NT ...   \n",
       "2020-10-25   WA WA WA WA WA WA WA WA WA WA WA WA NT NT NT ...   \n",
       "2020-11-01   WA WA WA WA WA WA WA WA WA WA WA WA NT NT NT ...   \n",
       "\n",
       "                                                        Group   Unit     Sales  \n",
       "Date                                                                            \n",
       "2020-10-04   Kids Men Women Seniors Kids Men Women Seniors...   6018  15045000  \n",
       "2020-10-11   Kids Men Women Seniors Kids Men Women Seniors...  10801  27002500  \n",
       "2020-10-18   Kids Men Women Seniors Kids Men Women Seniors...  10656  26640000  \n",
       "2020-10-25   Kids Men Women Seniors Kids Men Women Seniors...  10726  26815000  \n",
       "2020-11-01   Kids Men Women Seniors Kids Men Women Seniors...   8723  21807500  "
      ]
     },
     "execution_count": 43,
     "metadata": {},
     "output_type": "execute_result"
    }
   ],
   "source": [
    "week_report.head()"
   ]
  },
  {
   "cell_type": "code",
   "execution_count": 44,
   "id": "eeb3e7a9-1058-4458-9459-aeec356c37be",
   "metadata": {},
   "outputs": [],
   "source": [
    "week_report.to_csv(\"weekly_report.csv\")\n",
    "Month_report.to_csv(\"Monthly_report.csv\")\n",
    "quarter_report.to_csv(\"Quaterly__report.csv\")"
   ]
  },
  {
   "cell_type": "markdown",
   "id": "a7c41203-b59e-4d24-a043-03e02045cb60",
   "metadata": {},
   "source": [
    "## Visualized the Weekly, Monthly, and Quarterly reports"
   ]
  },
  {
   "cell_type": "code",
   "execution_count": 45,
   "id": "dadb0ca7-b534-4d71-ad72-163faef748ad",
   "metadata": {},
   "outputs": [],
   "source": [
    "import matplotlib.pyplot as plt\n",
    "from scipy import stats\n",
    "import seaborn as sns"
   ]
  },
  {
   "cell_type": "code",
   "execution_count": 46,
   "id": "bbd61dc0-a602-48de-ac07-34776ffc8795",
   "metadata": {},
   "outputs": [
    {
     "data": {
      "text/plain": [
       "<Figure size 1000x1000 with 0 Axes>"
      ]
     },
     "execution_count": 46,
     "metadata": {},
     "output_type": "execute_result"
    },
    {
     "data": {
      "text/plain": [
       "<Figure size 1000x1000 with 0 Axes>"
      ]
     },
     "metadata": {},
     "output_type": "display_data"
    }
   ],
   "source": [
    "plt.figure(figsize=(10, 10))"
   ]
  },
  {
   "cell_type": "markdown",
   "id": "fff1e9d5-925d-441b-9b41-6f8746f32b5e",
   "metadata": {},
   "source": [
    "### Weekly Report :"
   ]
  },
  {
   "cell_type": "code",
   "execution_count": 47,
   "id": "d2e058a7-6bc0-4c5e-aacb-ecf390e08528",
   "metadata": {},
   "outputs": [
    {
     "data": {
      "text/plain": [
       "Text(0, 0.5, 'Sales')"
      ]
     },
     "execution_count": 47,
     "metadata": {},
     "output_type": "execute_result"
    },
    {
     "data": {
      "image/png": "[encoded data removed]",
      "text/plain": [
       "<Figure size 640x480 with 1 Axes>"
      ]
     },
     "metadata": {},
     "output_type": "display_data"
    }
   ],
   "source": [
    "plt.subplot(1, 3, 1)\n",
    "week_report['Sales'].plot(kind='line', title=\"Weekly Sales\", color='b')\n",
    "plt.xlabel('Week')\n",
    "plt.ylabel('Sales')"
   ]
  },
  {
   "cell_type": "markdown",
   "id": "ce9f9e6c-4600-4919-878d-702345e974c1",
   "metadata": {},
   "source": [
    "### Montly Report"
   ]
  },
  {
   "cell_type": "code",
   "execution_count": 48,
   "id": "71bc581d-e661-47ab-85cb-d14dc1c5d030",
   "metadata": {},
   "outputs": [
    {
     "data": {
      "text/plain": [
       "Text(0, 0.5, 'Sales')"
      ]
     },
     "execution_count": 48,
     "metadata": {},
     "output_type": "execute_result"
    },
    {
     "data": {
      "image/png": "[encoded data removed]",
      "text/plain": [
       "<Figure size 640x480 with 1 Axes>"
      ]
     },
     "metadata": {},
     "output_type": "display_data"
    }
   ],
   "source": [
    "plt.subplot(1,3,2)\n",
    "Month_report['Sales'].plot(kind = 'bar', title='Montly Report', color='r')\n",
    "plt.xlabel('Month')\n",
    "plt.ylabel('Sales')"
   ]
  },
  {
   "cell_type": "markdown",
   "id": "ad9e1b56-6dc7-4545-8332-a34727221b1a",
   "metadata": {},
   "source": [
    "### Quaterly Report"
   ]
  },
  {
   "cell_type": "code",
   "execution_count": 49,
   "id": "cf130097-63f9-426c-97db-4ff4e43d0da8",
   "metadata": {},
   "outputs": [
    {
     "data": {
      "text/plain": [
       "Text(0, 0.5, 'Sales')"
      ]
     },
     "execution_count": 49,
     "metadata": {},
     "output_type": "execute_result"
    },
    {
     "data": {
      "image/png": "[encoded data removed]",
      "text/plain": [
       "<Figure size 640x480 with 1 Axes>"
      ]
     },
     "metadata": {},
     "output_type": "display_data"
    }
   ],
   "source": [
    "plt.subplot(1,3,3)\n",
    "quarter_report['Sales'].plot(kind='bar', title= 'Quaterly Report', color='g')\n",
    "plt.xlabel('quater')\n",
    "plt.ylabel('Sales')"
   ]
  },
  {
   "cell_type": "markdown",
   "id": "8bb6fba2-8155-4e54-9c85-07b543e5aaa7",
   "metadata": {},
   "source": [
    "## State-wise Sales Analysis for Different Demographic Groups"
   ]
  },
  {
   "cell_type": "code",
   "execution_count": 50,
   "id": "51bf89e9-0208-467d-9195-be09325cce53",
   "metadata": {},
   "outputs": [],
   "source": [
    "state_group_sales = sa.groupby(['State', 'Group'])['Sales'].sum().reset_index()"
   ]
  },
  {
   "cell_type": "code",
   "execution_count": 286,
   "id": "7db64b6b-8598-42df-a82f-2b81fccb71f3",
   "metadata": {},
   "outputs": [
    {
     "data": {
      "image/png": "[encoded data removed]",
      "text/plain": [
       "<Figure size 1200x600 with 1 Axes>"
      ]
     },
     "metadata": {},
     "output_type": "display_data"
    }
   ],
   "source": [
    "plt.figure(figsize=(12, 6))\n",
    "ax = sns.barplot(x='State', y='Sales', hue='Group', data=state_group_sales)\n",
    "\n",
    "handles, labels = ax.get_legend_handles_labels()\n",
    "\n",
    "plt.xlabel(\"State\")\n",
    "plt.ylabel(\"Total Sales\")\n",
    "plt.title(\"State-wise Sales Analysis for Different Demographic Groups\")\n",
    "plt.xticks(rotation=45)  # Rotate x-axis labels for readability\n",
    "plt.legend(handles=handles, labels=labels, title=\"Group\")\n",
    "plt.savefig(\"state_wise_sales_analysis.png\")\n",
    "plt.show()"
   ]
  },
  {
   "cell_type": "markdown",
   "id": "fa2b6ada-b939-4dd0-b0f1-ad05a4760185",
   "metadata": {},
   "source": [
    "## Sales Trend Over Different Times of the Day"
   ]
  },
  {
   "cell_type": "code",
   "execution_count": 181,
   "id": "7d01e090-e4c8-421a-b4a0-e2aeac97ff9a",
   "metadata": {},
   "outputs": [
    {
     "name": "stdout",
     "output_type": "stream",
     "text": [
      "['Morning' 'Afternoon' 'Evening']\n"
     ]
    }
   ],
   "source": [
    "sa[\"Time\"] = sa[\"Time\"].str.strip()\n",
    "print(sa[\"Time\"].unique())"
   ]
  },
  {
   "cell_type": "code",
   "execution_count": 183,
   "id": "45905e32-d372-43d1-844f-20408b2c89a0",
   "metadata": {},
   "outputs": [
    {
     "name": "stdout",
     "output_type": "stream",
     "text": [
      "['Morning' 'Afternoon' 'Evening']\n"
     ]
    }
   ],
   "source": [
    "print(sa[\"Time\"].unique())"
   ]
  },
  {
   "cell_type": "code",
   "execution_count": 171,
   "id": "d0281be3-4ede-47de-ab29-6352057dec35",
   "metadata": {},
   "outputs": [
    {
     "name": "stdout",
     "output_type": "stream",
     "text": [
      "Index(['Time', 'State', 'Group', 'Unit', 'Sales'], dtype='object')\n"
     ]
    }
   ],
   "source": [
    "print(sa.columns)"
   ]
  },
  {
   "cell_type": "code",
   "execution_count": 185,
   "id": "c46a25b2-33e0-458b-b49f-0c65e49b78ca",
   "metadata": {},
   "outputs": [
    {
     "name": "stdout",
     "output_type": "stream",
     "text": [
      "                 Time Time_Converted\n",
      "Date                                \n",
      "2020-10-01    Morning          09:00\n",
      "2020-10-01    Morning          09:00\n",
      "2020-10-01    Morning          09:00\n",
      "2020-10-01    Morning          09:00\n",
      "2020-10-01  Afternoon          14:00\n"
     ]
    }
   ],
   "source": [
    "time_mapping = {\n",
    "    \"Morning\": \"09:00\",\n",
    "    \"Afternoon\": \"14:00\",\n",
    "    \"Evening\": \"19:00\"\n",
    "}\n",
    "\n",
    "sa[\"Time_Converted\"] = sa[\"Time\"].map(time_mapping)\n",
    "print(sa[[\"Time\", \"Time_Converted\"]].head())"
   ]
  },
  {
   "cell_type": "code",
   "execution_count": 190,
   "id": "009456b1-245c-4288-ab50-29703842f28e",
   "metadata": {},
   "outputs": [],
   "source": [
    "time_group_sales = sa.groupby(['Time_Converted'])['Sales'].sum().reset_index()"
   ]
  },
  {
   "cell_type": "code",
   "execution_count": 194,
   "id": "44e0cd51-f78d-496d-b94b-d2c90cc98d0b",
   "metadata": {},
   "outputs": [
    {
     "data": {
      "text/html": [
       "<div>\n",
       "<style scoped>\n",
       "    .dataframe tbody tr th:only-of-type {\n",
       "        vertical-align: middle;\n",
       "    }\n",
       "\n",
       "    .dataframe tbody tr th {\n",
       "        vertical-align: top;\n",
       "    }\n",
       "\n",
       "    .dataframe thead th {\n",
       "        text-align: right;\n",
       "    }\n",
       "</style>\n",
       "<table border=\"1\" class=\"dataframe\">\n",
       "  <thead>\n",
       "    <tr style=\"text-align: right;\">\n",
       "      <th></th>\n",
       "      <th>Time_Converted</th>\n",
       "      <th>Sales</th>\n",
       "    </tr>\n",
       "  </thead>\n",
       "  <tbody>\n",
       "    <tr>\n",
       "      <th>0</th>\n",
       "      <td>09:00</td>\n",
       "      <td>114207500</td>\n",
       "    </tr>\n",
       "    <tr>\n",
       "      <th>1</th>\n",
       "      <td>14:00</td>\n",
       "      <td>114007500</td>\n",
       "    </tr>\n",
       "    <tr>\n",
       "      <th>2</th>\n",
       "      <td>19:00</td>\n",
       "      <td>112087500</td>\n",
       "    </tr>\n",
       "  </tbody>\n",
       "</table>\n",
       "</div>"
      ],
      "text/plain": [
       "  Time_Converted      Sales\n",
       "0          09:00  114207500\n",
       "1          14:00  114007500\n",
       "2          19:00  112087500"
      ]
     },
     "execution_count": 194,
     "metadata": {},
     "output_type": "execute_result"
    }
   ],
   "source": [
    "time_group_sales"
   ]
  },
  {
   "cell_type": "code",
   "execution_count": 210,
   "id": "c363bee4-e3fd-401d-a2f5-95c0f27e1aeb",
   "metadata": {},
   "outputs": [
    {
     "name": "stderr",
     "output_type": "stream",
     "text": [
      "C:\\Users\\91938\\anaconda3\\Lib\\site-packages\\seaborn\\_oldcore.py:1119: FutureWarning: use_inf_as_na option is deprecated and will be removed in a future version. Convert inf values to NaN before operating instead.\n",
      "  with pd.option_context('mode.use_inf_as_na', True):\n",
      "C:\\Users\\91938\\anaconda3\\Lib\\site-packages\\seaborn\\_oldcore.py:1119: FutureWarning: use_inf_as_na option is deprecated and will be removed in a future version. Convert inf values to NaN before operating instead.\n",
      "  with pd.option_context('mode.use_inf_as_na', True):\n"
     ]
    },
    {
     "data": {
      "image/png": "[encoded data removed]",
      "text/plain": [
       "<Figure size 1000x500 with 1 Axes>"
      ]
     },
     "metadata": {},
     "output_type": "display_data"
    }
   ],
   "source": [
    "plt.figure(figsize=(10,5))\n",
    "sns.lineplot(x='Time_Converted', y='Sales', data=time_group_sales, marker='X')\n",
    "\n",
    "plt.xlabel(\"Time of the day\")\n",
    "plt.ylabel(\"Total Sales\")\n",
    "plt.title(\"Sales Trend Over Different Times of the Day\")\n",
    "plt.xticks(rotation=45)\n",
    "\n",
    "plt.savefig(\"Sales_Trend_over_timeoftheday.png\")\n",
    "plt.show()"
   ]
  },
  {
   "cell_type": "markdown",
   "id": "292425ed-b3b4-4883-8e0d-52a9be1617c5",
   "metadata": {},
   "source": [
    "## Weekly Sales Trend"
   ]
  },
  {
   "cell_type": "code",
   "execution_count": 212,
   "id": "26b9820f-dffe-4493-b594-839341900786",
   "metadata": {},
   "outputs": [],
   "source": [
    "Weekly_sales = sa.resample('W')['Sales'].sum().reset_index()"
   ]
  },
  {
   "cell_type": "code",
   "execution_count": 219,
   "id": "74ded3e6-b74b-41aa-93a8-35f4d854ebe1",
   "metadata": {},
   "outputs": [
    {
     "name": "stderr",
     "output_type": "stream",
     "text": [
      "C:\\Users\\91938\\anaconda3\\Lib\\site-packages\\seaborn\\_oldcore.py:1119: FutureWarning: use_inf_as_na option is deprecated and will be removed in a future version. Convert inf values to NaN before operating instead.\n",
      "  with pd.option_context('mode.use_inf_as_na', True):\n",
      "C:\\Users\\91938\\anaconda3\\Lib\\site-packages\\seaborn\\_oldcore.py:1119: FutureWarning: use_inf_as_na option is deprecated and will be removed in a future version. Convert inf values to NaN before operating instead.\n",
      "  with pd.option_context('mode.use_inf_as_na', True):\n"
     ]
    },
    {
     "data": {
      "image/png": "[encoded data removed]",
      "text/plain": [
       "<Figure size 1200x600 with 1 Axes>"
      ]
     },
     "metadata": {},
     "output_type": "display_data"
    }
   ],
   "source": [
    "plt.figure(figsize=(12,6))\n",
    "sns.lineplot(x='Date', y='Sales', data=Weekly_sales, marker='D')\n",
    "\n",
    "plt.xlabel(\"Week\")\n",
    "plt.ylabel(\"Total Sales\")\n",
    "plt.title(\"Weekly Sales Trend\")\n",
    "plt.xticks(rotation=45)\n",
    "\n",
    "plt.savefig(\"weekly_sales_trend.png\")\n",
    "plt.show()"
   ]
  },
  {
   "cell_type": "markdown",
   "id": "7eb2ca94-d25c-4d86-a3d8-123dfa65556b",
   "metadata": {},
   "source": [
    "## Monthly sales trend"
   ]
  },
  {
   "cell_type": "code",
   "execution_count": 223,
   "id": "afebc2f5-3db6-45f2-b7e2-25b4ad517bef",
   "metadata": {},
   "outputs": [],
   "source": [
    "montly_sales = sa.resample('M')['Sales'].sum().reset_index()"
   ]
  },
  {
   "cell_type": "code",
   "execution_count": 229,
   "id": "595f5fde-77fe-47ec-a726-c79e6c9e5ccd",
   "metadata": {},
   "outputs": [
    {
     "name": "stderr",
     "output_type": "stream",
     "text": [
      "C:\\Users\\91938\\anaconda3\\Lib\\site-packages\\seaborn\\_oldcore.py:1119: FutureWarning: use_inf_as_na option is deprecated and will be removed in a future version. Convert inf values to NaN before operating instead.\n",
      "  with pd.option_context('mode.use_inf_as_na', True):\n",
      "C:\\Users\\91938\\anaconda3\\Lib\\site-packages\\seaborn\\_oldcore.py:1119: FutureWarning: use_inf_as_na option is deprecated and will be removed in a future version. Convert inf values to NaN before operating instead.\n",
      "  with pd.option_context('mode.use_inf_as_na', True):\n"
     ]
    },
    {
     "data": {
      "image/png": "[encoded data removed]",
      "text/plain": [
       "<Figure size 1400x700 with 1 Axes>"
      ]
     },
     "metadata": {},
     "output_type": "display_data"
    }
   ],
   "source": [
    "plt.figure(figsize=(14,7))\n",
    "sns.lineplot(x='Date', y='Sales', data=montly_sales, marker='^')\n",
    "\n",
    "plt.xlabel(\"Month\")\n",
    "plt.ylabel(\"Total Sales\")\n",
    "plt.title(\"Monthly sales\")\n",
    "plt.xticks(rotation=90)\n",
    "\n",
    "plt.savefig(\"Montly_sales_trend.png\")\n",
    "plt.show()"
   ]
  },
  {
   "cell_type": "code",
   "execution_count": 231,
   "id": "0a486c64-8e82-4327-b0dd-f8ac07d6195f",
   "metadata": {},
   "outputs": [
    {
     "name": "stdout",
     "output_type": "stream",
     "text": [
      "<class 'pandas.core.frame.DataFrame'>\n",
      "DatetimeIndex: 7560 entries, 2020-10-01 to 2020-12-30\n",
      "Data columns (total 6 columns):\n",
      " #   Column          Non-Null Count  Dtype \n",
      "---  ------          --------------  ----- \n",
      " 0   Time            7560 non-null   object\n",
      " 1   State           7560 non-null   object\n",
      " 2   Group           7560 non-null   object\n",
      " 3   Unit            7560 non-null   int64 \n",
      " 4   Sales           7560 non-null   int64 \n",
      " 5   Time_Converted  7560 non-null   object\n",
      "dtypes: int64(2), object(4)\n",
      "memory usage: 413.4+ KB\n"
     ]
    }
   ],
   "source": [
    "sa.info()"
   ]
  },
  {
   "cell_type": "markdown",
   "id": "c711ec9c-829b-47ad-9757-68bcdccd5c30",
   "metadata": {},
   "source": [
    "## Customer Group-wise Sales Contribution"
   ]
  },
  {
   "cell_type": "code",
   "execution_count": 233,
   "id": "f067c73f-f5e7-4b6f-9018-0418f9f48d35",
   "metadata": {},
   "outputs": [],
   "source": [
    "group_by_sales = sa.groupby(['Group'])['Sales'].sum().reset_index()"
   ]
  },
  {
   "cell_type": "code",
   "execution_count": 244,
   "id": "1f5c9c97-668b-476b-be4a-3a56004aaed8",
   "metadata": {},
   "outputs": [
    {
     "data": {
      "image/png": "[encoded data removed]",
      "text/plain": [
       "<Figure size 1200x600 with 1 Axes>"
      ]
     },
     "metadata": {},
     "output_type": "display_data"
    }
   ],
   "source": [
    "plt.figure(figsize=(12,6))\n",
    "plt.pie(group_by_sales[\"Sales\"], \n",
    "        labels=group_by_sales[\"Group\"], \n",
    "        autopct=\"%1.1f%%\", startangle=140, colors=[\"skyblue\", \"lightcoral\", \"lightgreen\", \"gold\"])\n",
    "plt.title(\"Customer Group-wise Sales Contribution\")\n",
    "\n",
    "plt.savefig(\"Group_wise_sales.png\")\n",
    "plt.show()"
   ]
  },
  {
   "cell_type": "markdown",
   "id": "3f3447e5-62cd-49e9-81a1-391cbc01e919",
   "metadata": {},
   "source": [
    "## Group-wise Unit Contribution"
   ]
  },
  {
   "cell_type": "code",
   "execution_count": 246,
   "id": "394282b4-98fd-4c99-8a7f-8c23dddc4abb",
   "metadata": {},
   "outputs": [],
   "source": [
    "group_by_sales = sa.groupby(['Group'])['Unit'].sum().reset_index()"
   ]
  },
  {
   "cell_type": "code",
   "execution_count": 250,
   "id": "a05cf496-6eb5-4ec1-b239-91ee12bd4800",
   "metadata": {},
   "outputs": [
    {
     "data": {
      "image/png": "[encoded data removed]",
      "text/plain": [
       "<Figure size 1000x500 with 1 Axes>"
      ]
     },
     "metadata": {},
     "output_type": "display_data"
    }
   ],
   "source": [
    "plt.figure(figsize=(10,5))\n",
    "sns.barplot(x='Group', y='Unit', data=group_by_sales)\n",
    "\n",
    "plt.xlabel(\"Group of people\")\n",
    "plt.ylabel(\"Total Units\")\n",
    "plt.title(\"Group-wise Unit Contribution\")\n",
    "plt.xticks(rotation=90)\n",
    "\n",
    "plt.savefig(\"Group_wise_unit_contribution.png\")\n",
    "plt.show()"
   ]
  },
  {
   "cell_type": "markdown",
   "id": "7c018955-3ee9-4c8d-9706-ca82870e2619",
   "metadata": {},
   "source": [
    "## Peak and off-Peak sales periods"
   ]
  },
  {
   "cell_type": "code",
   "execution_count": 252,
   "id": "9ae3be33-c6de-4c15-8eae-1573235529ae",
   "metadata": {},
   "outputs": [],
   "source": [
    "peek_hour_sales = sa.groupby('Time_Converted')['Sales'].sum().reset_index()"
   ]
  },
  {
   "cell_type": "code",
   "execution_count": 256,
   "id": "07748af4-1635-45bd-b1ca-39b0e52c469d",
   "metadata": {},
   "outputs": [
    {
     "name": "stdout",
     "output_type": "stream",
     "text": [
      "Peak Purchase Time: 09:00 with Sales: 114207500\n"
     ]
    }
   ],
   "source": [
    "peak_time = peek_hour_sales.loc[peek_hour_sales['Sales'].idxmax()]\n",
    "print(f\"Peak Purchase Time: {peak_time['Time_Converted']} with Sales: {peak_time['Sales']}\")"
   ]
  },
  {
   "cell_type": "code",
   "execution_count": 293,
   "id": "9139fcd4-5bf5-420d-b18e-4ba2e32cf85a",
   "metadata": {},
   "outputs": [
    {
     "name": "stdout",
     "output_type": "stream",
     "text": [
      "Peak Purchase Time: 19:00 with Sales: 112087500\n"
     ]
    }
   ],
   "source": [
    "peak_off = peek_hour_sales.loc[peek_hour_sales['Sales'].idxmin()]\n",
    "print(f\"Peak Purchase Time: {peak_off['Time_Converted']} with Sales: {peak_off['Sales']}\")"
   ]
  },
  {
   "cell_type": "markdown",
   "id": "bd06115e-ce27-4171-b982-1500f51824b7",
   "metadata": {},
   "source": [
    "## Correlation Analysis"
   ]
  },
  {
   "cell_type": "code",
   "execution_count": 258,
   "id": "68d221b4-7bb4-4806-9b26-cee01f7640d0",
   "metadata": {},
   "outputs": [],
   "source": [
    "correlation = sa[['Unit','Sales']].corr()"
   ]
  },
  {
   "cell_type": "code",
   "execution_count": 260,
   "id": "7583e824-baef-44d1-bdd9-a7ca7b2219e7",
   "metadata": {},
   "outputs": [
    {
     "data": {
      "image/png": "[encoded data removed]",
      "text/plain": [
       "<Figure size 600x400 with 2 Axes>"
      ]
     },
     "metadata": {},
     "output_type": "display_data"
    }
   ],
   "source": [
    "plt.figure(figsize=(6, 4))\n",
    "sns.heatmap(correlation, annot=True, cmap='coolwarm', fmt=\".2f\")\n",
    "plt.title(\"Correlation Matrix\")\n",
    "plt.savefig(\"Correlation_Matrix.png\")\n",
    "plt.show()"
   ]
  }
 ],
 "metadata": {
  "kernelspec": {
   "display_name": "Python 3 (ipykernel)",
   "language": "python",
   "name": "python3"
  },
  "language_info": {
   "codemirror_mode": {
    "name": "ipython",
    "version": 3
   },
   "file_extension": ".py",
   "mimetype": "text/x-python",
   "name": "python",
   "nbconvert_exporter": "python",
   "pygments_lexer": "ipython3",
   "version": "3.11.7"
  }
 },
 "nbformat": 4,
 "nbformat_minor": 5
}
